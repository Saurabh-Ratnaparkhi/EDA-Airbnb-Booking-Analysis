{
  "nbformat": 4,
  "nbformat_minor": 0,
  "metadata": {
    "colab": {
      "private_outputs": true,
      "provenance": [],
      "collapsed_sections": [
        "w6K7xa23Elo4",
        "mDgbUHAGgjLW",
        "iky9q4vBYrdO",
        "F6T5p64dYrdO",
        "y-Ehk30pYrdP",
        "x-EpHcCOp1ci",
        "X_VqEhTip1ck",
        "8zGJKyg5p1ck",
        "PVzmfK_Ep1ck",
        "n3dbpmDWp1ck",
        "ylSl6qgtp1ck",
        "ZWILFDl5p1ck",
        "M7G43BXep1ck",
        "Ag9LCva-p1cl",
        "E6MkPsBcp1cl",
        "2cELzS2fp1cl",
        "3MPXvC8up1cl",
        "NC_X3p0fY2L0",
        "UV0SzAkaZNRQ",
        "YPEH6qLeZNRQ",
        "q29F0dvdveiT",
        "EXh0U9oCveiU",
        "22aHeOlLveiV",
        "8G2x9gOozGDZ",
        "gCX9965dhzqZ",
        "gIfDvo9L0UH2"
      ],
      "include_colab_link": true
    },
    "kernelspec": {
      "name": "python3",
      "display_name": "Python 3"
    },
    "language_info": {
      "name": "python"
    }
  },
  "cells": [
    {
      "cell_type": "markdown",
      "metadata": {
        "id": "view-in-github",
        "colab_type": "text"
      },
      "source": [
        "<a href=\"https://colab.research.google.com/github/stratnaparkhi026/EDA-project-Airbnb-Booking-Analysis/blob/main/Copy_of_Sample_EDA_Submission_Template.ipynb\" target=\"_parent\"><img src=\"https://colab.research.google.com/assets/colab-badge.svg\" alt=\"Open In Colab\"/></a>"
      ]
    },
    {
      "cell_type": "markdown",
      "source": [
        "# **Project Name**    -  **Capstone Project: EDA AirBnb Bookings Analysis**\n",
        "\n"
      ],
      "metadata": {
        "id": "vncDsAP0Gaoa"
      }
    },
    {
      "cell_type": "markdown",
      "source": [
        "##### **Project Type**    - EDA\n",
        "##### **Contribution**    - Individual\n",
        "##### **Candidate Name**    - Saurabh Ratnaparkhi"
      ],
      "metadata": {
        "id": "beRrZCGUAJYm"
      }
    },
    {
      "cell_type": "markdown",
      "source": [
        "# **Project Summary -**"
      ],
      "metadata": {
        "id": "FJNUwmbgGyua"
      }
    },
    {
      "cell_type": "markdown",
      "source": [
        "The Airbnb project involves gathering and analyzing data related to Airbnb listings, hosts, and guests in order to gain insights into the trends, patterns, and impacts of short-term rentals in the city. The project aims to provide a better understanding of the Airbnb market in New York City and its implications for the housing market, tourism industry, and local communities.\n",
        "\n",
        "Key Objectives:-\n",
        "\n",
        "Data Collection: The project involves collecting data from various sources, including the Airbnb platform, publicly available datasets, and other relevant resources. This data includes information about listings, hosts, pricing, occupancy rates, and geographical distribution.\n",
        "\n",
        "Data Analysis: Once the data is collected, it is analyzed to identify key trends and patterns in the NYC Airbnb market. This analysis may include examining factors such as listing types, property locations, rental prices, guest reviews, and host characteristics.\n",
        "\n",
        "Impact Assessment: The project aims to assess the impact of Airbnb on the local housing market, tourism industry, and communities. This involves studying the effects of short-term rentals on rental prices, housing availability, neighborhood dynamics, and the overall economy.\n",
        "\n",
        "Policy Recommendations: Based on the findings of the analysis, the project may provide recommendations for policymakers and relevant stakeholders. These recommendations may address issues such as housing affordability, regulation of short-term rentals, taxation, and community engagement.\n",
        "\n",
        "Visualization and Reporting: The project may involve creating visualizations, infographics, and reports to present the findings in a clear and accessible manner. These materials can help stakeholders understand the complexities of the NYC Airbnb market and make informed decisions.\n",
        "\n",
        "Overall, the NYC Airbnb project aims to provide a comprehensive understanding of the Airbnb market in New York City and its impact on various aspects of the city's economy and communities. The project's findings and recommendations can inform policy decisions, facilitate informed discussions, and contribute to the ongoing debate surrounding the regulation and management of short-term rentals in NYC."
      ],
      "metadata": {
        "id": "F6v_1wHtG2nS"
      }
    },
    {
      "cell_type": "markdown",
      "source": [
        "# **GitHub Link -**"
      ],
      "metadata": {
        "id": "w6K7xa23Elo4"
      }
    },
    {
      "cell_type": "markdown",
      "source": [
        "https://github.com/stratnaparkhi026/EDA-project-Airbnb-Booking-Analysis/blob/main/Copy_of_Sample_EDA_Submission_Template.ipynb"
      ],
      "metadata": {
        "id": "h1o69JH3Eqqn"
      }
    },
    {
      "cell_type": "markdown",
      "source": [
        "# **Problem Statement**"
      ],
      "metadata": {
        "id": "yQaldy8SH6Dl"
      }
    },
    {
      "cell_type": "markdown",
      "source": [
        "The main objective of this exploratory data analysis (EDA) project is to understand the dynamics of Airbnb rentals in New York City (NYC) by analyzing various factors such as pricing, availability, neighborhood groups, room types, and customer feedback. By examining the average price, number of listings, availability, and customer reviews, we aim to gain insights into the pricing patterns, popularity of neighborhoods, customer satisfaction, and market opportunities. This analysis will provide valuable information for potential investors or hosts to make informed decisions and understand the key factors influencing the success and profitability of Airbnb rentals in NYC."
      ],
      "metadata": {
        "id": "JgeMlOJ-wm_S"
      }
    },
    {
      "cell_type": "markdown",
      "source": [
        "#### **Define Your Business Objective?**"
      ],
      "metadata": {
        "id": "PH-0ReGfmX4f"
      }
    },
    {
      "cell_type": "markdown",
      "source": [
        "The primary business objective of this project is to optimize the client's Airbnb rental business in New York City by maximizing occupancy rates, profitability, and guest satisfaction. By implementing data-driven strategies and insights, the aim is to achieve higher occupancy rates, increase revenue, and ensure exceptional guest experiences, ultimately driving the success and growth of the client's business in the competitive NYC Airbnb market."
      ],
      "metadata": {
        "id": "PhDvGCAqmjP1"
      }
    },
    {
      "cell_type": "markdown",
      "source": [
        "# **General Guidelines** : -  "
      ],
      "metadata": {
        "id": "mDgbUHAGgjLW"
      }
    },
    {
      "cell_type": "markdown",
      "source": [
        "1.   Well-structured, formatted, and commented code is required.\n",
        "2.   Exception Handling, Production Grade Code & Deployment Ready Code will be a plus. Those students will be awarded some additional credits.\n",
        "     \n",
        "     The additional credits will have advantages over other students during Star Student selection.\n",
        "       \n",
        "             [ Note: - Deployment Ready Code is defined as, the whole .ipynb notebook should be executable in one go\n",
        "                       without a single error logged. ]\n",
        "\n",
        "3.   Each and every logic should have proper comments.\n",
        "4. You may add as many number of charts you want. Make Sure for each and every chart the following format should be answered.\n",
        "        \n",
        "\n",
        "```\n",
        "# Chart visualization code\n",
        "```\n",
        "            \n",
        "\n",
        "*   Why did you pick the specific chart?\n",
        "*   What is/are the insight(s) found from the chart?\n",
        "* Will the gained insights help creating a positive business impact?\n",
        "Are there any insights that lead to negative growth? Justify with specific reason.\n",
        "\n",
        "5. You have to create at least 20 logical & meaningful charts having important insights.\n",
        "\n",
        "\n",
        "[ Hints : - Do the Vizualization in  a structured way while following \"UBM\" Rule.\n",
        "\n",
        "U - Univariate Analysis,\n",
        "\n",
        "B - Bivariate Analysis (Numerical - Categorical, Numerical - Numerical, Categorical - Categorical)\n",
        "\n",
        "M - Multivariate Analysis\n",
        " ]\n",
        "\n",
        "\n",
        "\n"
      ],
      "metadata": {
        "id": "ZrxVaUj-hHfC"
      }
    },
    {
      "cell_type": "markdown",
      "source": [
        "# ***Let's Begin !***"
      ],
      "metadata": {
        "id": "O_i_v8NEhb9l"
      }
    },
    {
      "cell_type": "markdown",
      "source": [
        "## ***1. Know Your Data***"
      ],
      "metadata": {
        "id": "HhfV-JJviCcP"
      }
    },
    {
      "cell_type": "markdown",
      "source": [
        "### Import Libraries"
      ],
      "metadata": {
        "id": "Y3lxredqlCYt"
      }
    },
    {
      "cell_type": "code",
      "source": [
        "# Import Libraries\n",
        "import pandas as pd\n",
        "import numpy as np\n",
        "\n",
        "# Import Visualization Libraries\n",
        "import matplotlib.pyplot as plt\n",
        "import seaborn as sns"
      ],
      "metadata": {
        "id": "M8Vqi-pPk-HR"
      },
      "execution_count": null,
      "outputs": []
    },
    {
      "cell_type": "markdown",
      "source": [
        "### Dataset Loading"
      ],
      "metadata": {
        "id": "3RnN4peoiCZX"
      }
    },
    {
      "cell_type": "code",
      "source": [
        "# Load Dataset\n",
        "url = 'https://raw.githubusercontent.com/stratnaparkhi026/EDA-project-Airbnb-Booking-Analysis/main/Copy%20of%20Airbnb%20NYC%202019.csv'\n",
        "airbnb_df = pd.read_csv(url)"
      ],
      "metadata": {
        "id": "7YN4qTvC0kAV"
      },
      "execution_count": null,
      "outputs": []
    },
    {
      "cell_type": "markdown",
      "source": [
        "### Dataset First View"
      ],
      "metadata": {
        "id": "x71ZqKXriCWQ"
      }
    },
    {
      "cell_type": "code",
      "source": [
        "# Dataset First Look\n",
        "airbnb_df.head()"
      ],
      "metadata": {
        "id": "LWNFOSvLl09H"
      },
      "execution_count": null,
      "outputs": []
    },
    {
      "cell_type": "code",
      "source": [
        "airbnb_df.tail()"
      ],
      "metadata": {
        "id": "pwGDaeI3c6qX"
      },
      "execution_count": null,
      "outputs": []
    },
    {
      "cell_type": "markdown",
      "source": [
        "### Dataset Rows & Columns count"
      ],
      "metadata": {
        "id": "7hBIi_osiCS2"
      }
    },
    {
      "cell_type": "code",
      "source": [
        "# Dataset Rows & Columns count\n",
        "row_count, column_count = airbnb_df.shape\n",
        "print(\"Number of rows:\", row_count)\n",
        "print(\"Number of columns:\", column_count)"
      ],
      "metadata": {
        "id": "Kllu7SJgmLij"
      },
      "execution_count": null,
      "outputs": []
    },
    {
      "cell_type": "markdown",
      "source": [
        "### Dataset Information"
      ],
      "metadata": {
        "id": "JlHwYmJAmNHm"
      }
    },
    {
      "cell_type": "code",
      "source": [
        "# Dataset Info\n",
        "airbnb_df.info()"
      ],
      "metadata": {
        "id": "e9hRXRi6meOf"
      },
      "execution_count": null,
      "outputs": []
    },
    {
      "cell_type": "markdown",
      "source": [
        "#### Duplicate Values"
      ],
      "metadata": {
        "id": "35m5QtbWiB9F"
      }
    },
    {
      "cell_type": "code",
      "source": [
        "# Dataset Duplicate Value Count\n",
        "duplicate_count = airbnb_df.duplicated().sum()\n",
        "print(\"Number of duplicate values:\", duplicate_count)"
      ],
      "metadata": {
        "id": "1sLdpKYkmox0"
      },
      "execution_count": null,
      "outputs": []
    },
    {
      "cell_type": "markdown",
      "source": [
        "#### Missing Values/Null Values"
      ],
      "metadata": {
        "id": "PoPl-ycgm1ru"
      }
    },
    {
      "cell_type": "code",
      "source": [
        "# Missing Values/Null Values Count\n",
        "airbnb_df.isnull().sum()"
      ],
      "metadata": {
        "id": "GgHWkxvamxVg"
      },
      "execution_count": null,
      "outputs": []
    },
    {
      "cell_type": "code",
      "source": [
        "# Visualizing the missing values\n",
        "plt.figure(figsize=(5, 3))\n",
        "sns.heatmap(airbnb_df.isnull(), cbar=False, cmap='Reds')\n",
        "plt.title('Missing Values Heatmap')\n",
        "plt.show()"
      ],
      "metadata": {
        "id": "3q5wnI3om9sJ"
      },
      "execution_count": null,
      "outputs": []
    },
    {
      "cell_type": "code",
      "source": [
        "# No. of room types available for rent\n",
        "airbnb_df.room_type.unique()"
      ],
      "metadata": {
        "id": "zFoJSAM7efrJ"
      },
      "execution_count": null,
      "outputs": []
    },
    {
      "cell_type": "code",
      "source": [
        "# How many neighbourhood groups are there?\n",
        "airbnb_df.neighbourhood_group.unique()"
      ],
      "metadata": {
        "id": "cORuocvUeg_R"
      },
      "execution_count": null,
      "outputs": []
    },
    {
      "cell_type": "code",
      "source": [
        "# How many neighborhoods are there?\n",
        "airbnb_df.neighbourhood.nunique()"
      ],
      "metadata": {
        "id": "zySA204Keh-B"
      },
      "execution_count": null,
      "outputs": []
    },
    {
      "cell_type": "code",
      "source": [
        "# Total number of hosts\n",
        "airbnb_df.host_id.nunique()"
      ],
      "metadata": {
        "id": "xV0inIhReoHd"
      },
      "execution_count": null,
      "outputs": []
    },
    {
      "cell_type": "code",
      "source": [
        "# Total number of listings\n",
        "airbnb_df.id.nunique()"
      ],
      "metadata": {
        "id": "JxNy7qzIesFG"
      },
      "execution_count": null,
      "outputs": []
    },
    {
      "cell_type": "markdown",
      "source": [
        "### What did you know about your dataset?"
      ],
      "metadata": {
        "id": "H0kj-8xxnORC"
      }
    },
    {
      "cell_type": "markdown",
      "source": [
        "Answer Here\n",
        "\n",
        "1.   The dataset has 16 columns and 48,895 rows.\n",
        "2.   A significant number of values seem to be missing from the last_review and reviews_per_month columns.\n",
        "3.   The rows are entirely unique meaning there is no repeated record.\n",
        "4.   There are five neighborhood groups, 221 neighborhoods, 37,457 hosts, 48,895 listings, and three types of rooms\n",
        "     available for rental."
      ],
      "metadata": {
        "id": "gfoNAAC-nUe_"
      }
    },
    {
      "cell_type": "markdown",
      "source": [
        "## ***2. Understanding Your Variables***"
      ],
      "metadata": {
        "id": "nA9Y7ga8ng1Z"
      }
    },
    {
      "cell_type": "code",
      "source": [
        "# Dataset Columns\n",
        "airbnb_df.columns"
      ],
      "metadata": {
        "id": "j7xfkqrt5Ag5"
      },
      "execution_count": null,
      "outputs": []
    },
    {
      "cell_type": "code",
      "source": [
        "# Dataset Describe\n",
        "airbnb_df.describe()"
      ],
      "metadata": {
        "id": "DnOaZdaE5Q5t"
      },
      "execution_count": null,
      "outputs": []
    },
    {
      "cell_type": "markdown",
      "source": [
        "### Variables Description"
      ],
      "metadata": {
        "id": "PBTbrJXOngz2"
      }
    },
    {
      "cell_type": "markdown",
      "source": [
        "Answer Here\n",
        "1.   ID : Unique ID of the Airbnb listing\n",
        "2.   Name : Name of the Airbnb listing\n",
        "3.   Host ID : Unique Host ID  \n",
        "4.   Host name : Name of the Host\n",
        "5.   Neighbourhood group : Location\n",
        "6.   Neighbourhood : Area\n",
        "7.   Latitude : Latiude Range\n",
        "8.   Longitude : Longitude Range\n",
        "9.   Room type : Type of Room\n",
        "10.  listed Price : Price of listing\n",
        "11.  Minimum nights : Minimum nights to be paid for\n",
        "12.  Number_of_reviews : Number of reviews\n",
        "13.  Last_review : Last date of review\n",
        "14.  Reviews per month : Number of reviews per month\n",
        "15.  Calculated host listings count : Total count of listings of the host\n",
        "16.  Availability 365 : Availability around the year"
      ],
      "metadata": {
        "id": "aJV4KIxSnxay"
      }
    },
    {
      "cell_type": "markdown",
      "source": [
        "### Check Unique Values for each variable."
      ],
      "metadata": {
        "id": "u3PMJOP6ngxN"
      }
    },
    {
      "cell_type": "code",
      "source": [
        "# Check Unique Values for each variable.\n",
        "for i in airbnb_df.columns.tolist():\n",
        "  print(\"No. of unique values in\",i,\"is\",airbnb_df[i].nunique())"
      ],
      "metadata": {
        "id": "zms12Yq5n-jE"
      },
      "execution_count": null,
      "outputs": []
    },
    {
      "cell_type": "markdown",
      "source": [
        "## 3. ***Data Wrangling***"
      ],
      "metadata": {
        "id": "dauF4eBmngu3"
      }
    },
    {
      "cell_type": "markdown",
      "source": [
        "### Data Wrangling Code"
      ],
      "metadata": {
        "id": "bKJF3rekwFvQ"
      }
    },
    {
      "cell_type": "code",
      "source": [
        "# Write your code to make your dataset analysis ready.\n",
        "nan_count = airbnb_df.isna().sum()\n",
        "print(nan_count)"
      ],
      "metadata": {
        "id": "wk-9a2fpoLcV"
      },
      "execution_count": null,
      "outputs": []
    },
    {
      "cell_type": "code",
      "source": [
        "airbnb_df.dropna(subset=['name','host_name',\"last_review\",\"reviews_per_month\"], inplace=True)\n",
        "print(airbnb_df.isna().sum())\n",
        "print(airbnb_df.shape)"
      ],
      "metadata": {
        "id": "vV8vOoaok9RN"
      },
      "execution_count": null,
      "outputs": []
    },
    {
      "cell_type": "markdown",
      "source": [
        "**Handling the outliers in the price column**\n"
      ],
      "metadata": {
        "id": "ISLuLFxZlkqU"
      }
    },
    {
      "cell_type": "code",
      "source": [
        "# boxplot for price column\n",
        "sns.boxplot(x = airbnb_df['price'])\n",
        "plt.show()"
      ],
      "metadata": {
        "id": "vtRIiPuBlPKF"
      },
      "execution_count": null,
      "outputs": []
    },
    {
      "cell_type": "code",
      "source": [
        "# writing a outlier function for removing outliers in important columns.\n",
        "def iqr_technique(DFcolumn):\n",
        "  Q1 = np.percentile(DFcolumn, 25)\n",
        "  Q3 = np.percentile(DFcolumn, 75)\n",
        "  IQR = Q3 - Q1 # interquantile range\n",
        "  lower_range = Q1 - (1.5 * IQR)\n",
        "  upper_range = Q3 + (1.5 * IQR)\n",
        "\n",
        "  return lower_range,upper_range"
      ],
      "metadata": {
        "id": "gfTz6Bm_mQdd"
      },
      "execution_count": null,
      "outputs": []
    },
    {
      "cell_type": "code",
      "source": [
        "# Executing the outlier function\n",
        "lower_bound,upper_bound=iqr_technique(airbnb_df['price'])\n",
        "airbnb_df1 = airbnb_df[(airbnb_df.price>lower_bound) & (airbnb_df.price<upper_bound)]\n",
        "\n",
        "# so the outliers are removed from price column now check with boxplot and also check shape of new Dataframe!\n",
        "sns.boxplot(x = airbnb_df1['price'])\n",
        "print(\"shape of the dataset before removing outlier:\", airbnb_df.shape)\n",
        "print(\"shape of the dataset after removing outlier:\", airbnb_df1.shape)"
      ],
      "metadata": {
        "id": "KvrVebvHmk0o"
      },
      "execution_count": null,
      "outputs": []
    },
    {
      "cell_type": "markdown",
      "source": [
        "### What all manipulations have you done and insights you found?"
      ],
      "metadata": {
        "id": "MSa1f5Uengrz"
      }
    },
    {
      "cell_type": "markdown",
      "source": [
        "Answer Here.\n",
        "*   we removed the null values in the 'name', 'host_name', 'last_reviews' & 'reviews_per_month' columns.\n",
        "*   After that we checked for all the null values are removed or not by using shape() method.\n",
        "*   After this we handled the outliers using the IQR Approach as we could see in the box plot that we had a bunch of\n",
        "    outliers in the 'price' column."
      ],
      "metadata": {
        "id": "LbyXE7I1olp8"
      }
    },
    {
      "cell_type": "markdown",
      "source": [
        "## ***4. Data Vizualization, Storytelling & Experimenting with charts : Understand the relationships between variables***"
      ],
      "metadata": {
        "id": "GF8Ens_Soomf"
      }
    },
    {
      "cell_type": "markdown",
      "source": [
        "### **Chart - 1: Distribution of Airbnb Bookings Price Range.**"
      ],
      "metadata": {
        "id": "0wOQAZs5pc--"
      }
    },
    {
      "cell_type": "markdown",
      "source": [
        "We can notice that the price column has minimum price as 0, which is surprising as price 0 does'nt make sense to do bussiness. so to overcome this problem Lets fill the column of price having price as 0 with appropriate price values (by filling the price with median price for each room_type)"
      ],
      "metadata": {
        "id": "NJ3D9cmz8y3m"
      }
    },
    {
      "cell_type": "code",
      "source": [
        "# Chart - 1 visualization code\n",
        "# Lets fill '0' with median price for each room type.\n",
        "airbnb_df1.loc[ (airbnb_df1.room_type=='Entire home/apt') & (airbnb_df1.price==0),'price']=airbnb_df1.loc[ (airbnb_df1.room_type=='Entire home/apt') & (airbnb_df1.price!=0),'price'].median()\n",
        "airbnb_df1.loc[ (airbnb_df1.room_type=='Private room') & (airbnb_df1.price==0),'price']=airbnb_df1.loc[ (airbnb_df1.room_type=='Private room') & (airbnb_df1.price!=0),'price'].median()\n",
        "airbnb_df1.loc[ (airbnb_df1.room_type=='Shared room') & (airbnb_df1.price==0),'price']=airbnb_df1.loc[ (airbnb_df1.room_type=='Shared room') & (airbnb_df1.price!=0),'price'].median()\n",
        "airbnb_df1.shape # after updating price column"
      ],
      "metadata": {
        "id": "7v_ESjsspbW7"
      },
      "execution_count": null,
      "outputs": []
    },
    {
      "cell_type": "code",
      "source": [
        "# Create a figure with a custom size\n",
        "plt.figure(figsize=(12, 5))\n",
        "\n",
        "# Set the seaborn theme to darkgrid\n",
        "sns.set_theme(style='darkgrid')\n",
        "\n",
        "# Create a histogram of the 'price' column of the Airbnb_df dataframe\n",
        "# using sns distplot function and specifying the color as red\n",
        "sns.histplot(airbnb_df1['price'],color=('r'), kde = True)\n",
        "\n",
        "# Add labels to the x-axis and y-axis\n",
        "plt.xlabel('Price', fontsize=14)\n",
        "plt.ylabel('Density', fontsize=14)\n",
        "\n",
        "# Add a title to the plot\n",
        "plt.title('Distribution of Airbnb Prices',fontsize=15)"
      ],
      "metadata": {
        "id": "ReVMK0V89A4M"
      },
      "execution_count": null,
      "outputs": []
    },
    {
      "cell_type": "markdown",
      "source": [
        "##### **1. Why did you pick the specific chart?**"
      ],
      "metadata": {
        "id": "K5QZ13OEpz2H"
      }
    },
    {
      "cell_type": "markdown",
      "source": [
        "*   A histplot is a type of chart that displays the distribution of a dataset. It is a graphical representation of the data that shows how often each value or group of values occurs. Histplots are useful for understanding the distribution of a dataset and identifying patterns or trends in the data.\n",
        "*   Thus, we used the histogram plot to analyse the price distributions for the dataset.\n",
        "*   A boxplot is used to summarize the key statistical characteristics of a dataset, including the median, quartiles, and range, in a single plot. Boxplots are useful for identifying the presence of outliers in a dataset, comparing the distribution of multiple datasets, and understanding the dispersion of the data.\n",
        "*   Thus I used box plot to analyse the outliers and interquartile range including median, maximum and minimum value."
      ],
      "metadata": {
        "id": "XESiWehPqBRc"
      }
    },
    {
      "cell_type": "markdown",
      "source": [
        "##### **2. What is/are the insight(s) found from the chart?**"
      ],
      "metadata": {
        "id": "lQ7QKXXCp7Bj"
      }
    },
    {
      "cell_type": "markdown",
      "source": [
        "*   The range of prices being charged on Airbnb appears to be from 20 to 330 dollars , with the majority of listings falling in the price range of 50 to 150 dollars.\n",
        "*   The distribution of prices appears to have a peak in the 50 to 150 dollars range, with a relatively lower density of listings in higher and lower price ranges.\n",
        "*   There may be fewer listings available at prices above 250 dollars, as the density of listings drops significantly in this range."
      ],
      "metadata": {
        "id": "C_j1G7yiqdRP"
      }
    },
    {
      "cell_type": "markdown",
      "source": [
        "##### **3. Will the gained insights help creating a positive business impact?**\n",
        "Are there any insights that lead to negative growth? Justify with specific reason."
      ],
      "metadata": {
        "id": "448CDAPjqfQr"
      }
    },
    {
      "cell_type": "markdown",
      "source": [
        "Histogram and Box plot cannot give us whole information regarding data. It's done just to see the distribution of the column data over the dataset."
      ],
      "metadata": {
        "id": "3cspy4FjqxJW"
      }
    },
    {
      "cell_type": "markdown",
      "source": [
        "### **Chart - 2: Highest number of apartments owned by the host.**"
      ],
      "metadata": {
        "id": "KSlN3yHqYklG"
      }
    },
    {
      "cell_type": "code",
      "source": [
        "# Number of listings owned by the hosts according to host_name column.\n",
        "airbnb_df1['host_name'].value_counts().reset_index().head(10)"
      ],
      "metadata": {
        "id": "R4YgtaqtYklH"
      },
      "execution_count": null,
      "outputs": []
    },
    {
      "cell_type": "code",
      "source": [
        "airbnb_df1['host_name'].value_counts()[:10].plot(kind='barh')\n",
        "plt.title('Top hosts(not distinct) with highest number of listings on Airbnb')"
      ],
      "metadata": {
        "id": "cr6yrSfXDkLN"
      },
      "execution_count": null,
      "outputs": []
    },
    {
      "cell_type": "code",
      "source": [
        "# Number of listings owned by the hosts according to host_id column.\n",
        "airbnb_df1[\"host_id\"].value_counts().reset_index().head(10)"
      ],
      "metadata": {
        "id": "5OA0fzk9EQ4h"
      },
      "execution_count": null,
      "outputs": []
    },
    {
      "cell_type": "code",
      "source": [
        "airbnb_df1['host_id'].value_counts()[:10].plot.bar()\n",
        "plt.title('Top host_id with highest number of listings on Airbnb')"
      ],
      "metadata": {
        "id": "sMr4F8TcEvJW"
      },
      "execution_count": null,
      "outputs": []
    },
    {
      "cell_type": "code",
      "source": [
        "# Top 10 hosts having highest number of listings on airbnb\n",
        "top_host=airbnb_df1.groupby(['host_id','host_name'])['calculated_host_listings_count'].max().sort_values(ascending=False).head(10).reset_index()\n",
        "h_name = top_host['host_name'].head(10)\n",
        "count = top_host['calculated_host_listings_count'].head(10)\n",
        "# Figure Size\n",
        "fig = plt.figure(figsize =(15, 5))\n",
        "# Horizontal Bar Plot\n",
        "plt.bar(h_name[0:10], count[0:10])\n",
        "# Show Plot\n",
        "plt.title(\"Top hosts(distinct) with highest number of listings on Airbnb\")\n",
        "plt.show()"
      ],
      "metadata": {
        "id": "O5rPhgVhE9-G"
      },
      "execution_count": null,
      "outputs": []
    },
    {
      "cell_type": "markdown",
      "source": [
        "##### **1. Why did you pick the specific chart?**"
      ],
      "metadata": {
        "id": "t6dVpIINYklI"
      }
    },
    {
      "cell_type": "markdown",
      "source": [
        "A bar plot is an effective visualization technique for comparing the highest number of listings owned by the hosts in the Airbnb data set. This visual representation allows for easy interpretation and identification of trends. Viewers can quickly compare the heights of the bars to determine which hosts tend to have highest number of listings."
      ],
      "metadata": {
        "id": "5aaW0BYyYklI"
      }
    },
    {
      "cell_type": "markdown",
      "source": [
        "##### **2. What is/are the insight(s) found from the chart?**"
      ],
      "metadata": {
        "id": "ijmpgYnKYklI"
      }
    },
    {
      "cell_type": "markdown",
      "source": [
        "From this, we can see that the host_name Michael it's appearing 309 times in the host_name column, so this might imply that Michael is having the highest number of rooms. But from the host_id column, it shows the highest appearance of any host_id is 164, so this implies that there can be multiple people that may have the same name that's why we are getting different highest appearance in host_name as compared to host_id."
      ],
      "metadata": {
        "id": "PSx9atu2YklI"
      }
    },
    {
      "cell_type": "markdown",
      "source": [
        "##### **3. Will the gained insights help creating a positive business impact?**\n",
        "Are there any insights that lead to negative growth? Justify with specific reason."
      ],
      "metadata": {
        "id": "-JiQyfWJYklI"
      }
    },
    {
      "cell_type": "markdown",
      "source": [
        "*   Sonder (NYC) is having maximum numbers of rooms for the guest and having multiple appartments in same building in different different neighbourhood, so for Airbnb he might be very important person.\n",
        "*   The analysis can have a positive business impact by helping the airbnb to hold the good relationship for the top hosts that owned the highest number of listings.\n"
      ],
      "metadata": {
        "id": "BcBbebzrYklV"
      }
    },
    {
      "cell_type": "markdown",
      "source": [
        "### **Chart - 3: Which are the top 10 neighbourhood having maximum number of appartments on airbnb?**"
      ],
      "metadata": {
        "id": "EM7whBJCYoAo"
      }
    },
    {
      "cell_type": "code",
      "source": [
        "airbnb_df1['neighbourhood'].value_counts().head(10)"
      ],
      "metadata": {
        "id": "t6GMdE67YoAp"
      },
      "execution_count": null,
      "outputs": []
    },
    {
      "cell_type": "code",
      "source": [
        "# Plotting top 10 neighbourhood which are having maximum number of appartments on Airbnb\n",
        "\n",
        "pd.value_counts(airbnb_df1['neighbourhood'])[:10].plot.bar()\n",
        "plt.title(\"Top neighbourhoods with highest number of listings\")"
      ],
      "metadata": {
        "id": "7EkfE6DyAcw2"
      },
      "execution_count": null,
      "outputs": []
    },
    {
      "cell_type": "markdown",
      "source": [
        "##### **1. Why did you pick the specific chart?**"
      ],
      "metadata": {
        "id": "fge-S5ZAYoAp"
      }
    },
    {
      "cell_type": "markdown",
      "source": [
        "A column plot is an effective visualization technique for comparing the top neighbourhood with highest number of listings on the Airbnb. Viewers can quickly compare the heights of the column to determine which neighbourhood tend to have highest number of listings."
      ],
      "metadata": {
        "id": "5dBItgRVYoAp"
      }
    },
    {
      "cell_type": "markdown",
      "source": [
        "##### **2. What is/are the insight(s) found from the chart?**"
      ],
      "metadata": {
        "id": "85gYPyotYoAp"
      }
    },
    {
      "cell_type": "markdown",
      "source": [
        "Bedford-Stuyvesant and Williamsburg are the top neighbourhoods having maximum number of properties on airbnb."
      ],
      "metadata": {
        "id": "4jstXR6OYoAp"
      }
    },
    {
      "cell_type": "markdown",
      "source": [
        "##### **3. Will the gained insights help creating a positive business impact?**\n",
        "Are there any insights that lead to negative growth? Justify with specific reason."
      ],
      "metadata": {
        "id": "RoGjAbkUYoAp"
      }
    },
    {
      "cell_type": "markdown",
      "source": [
        "*   Analyzing the distribution of listings across neighbourhoods can provide insights into the popularity.\n",
        "*   Identifying the most popular neighbourhoods can help hosts focus their marketing efforts and optimize their listings.\n",
        "*   Concentrating resources in the neighbourhoods with the highest number of listings can increase bookings and profitability."
      ],
      "metadata": {
        "id": "zfJ8IqMcYoAp"
      }
    },
    {
      "cell_type": "markdown",
      "source": [
        "### **Chart - 4: Which are top 3 neighbourhood in each group having maximum price amongst their respective neighbourhood group?**"
      ],
      "metadata": {
        "id": "4Of9eVA-YrdM"
      }
    },
    {
      "cell_type": "code",
      "source": [
        "# Dataframe of each neighbourhood group\n",
        "df_manhattan=airbnb_df1[airbnb_df1['neighbourhood_group']=='Manhattan']\n",
        "df_queens=airbnb_df1[airbnb_df1['neighbourhood_group']=='Queens']\n",
        "df_brooklyn=airbnb_df1[airbnb_df1['neighbourhood_group']=='Brooklyn']\n",
        "df_bronx=airbnb_df1[airbnb_df1['neighbourhood_group']=='Bronx']\n",
        "df_staten=airbnb_df1[airbnb_df1['neighbourhood_group']=='Staten Island']"
      ],
      "metadata": {
        "id": "irlUoxc8YrdO"
      },
      "execution_count": null,
      "outputs": []
    },
    {
      "cell_type": "code",
      "source": [
        "# Top 3 neighbourhoods in Manhattan which are having maximum prices\n",
        "my_df1 = df_manhattan.groupby(['neighbourhood'])['price'].max().sort_values(ascending=False).reset_index().head(3)\n",
        "print('Top 3 neighbourhoods in Manhattan which are having maximum prices')\n",
        "print(my_df1)"
      ],
      "metadata": {
        "id": "P-Pg92yZEmDU"
      },
      "execution_count": null,
      "outputs": []
    },
    {
      "cell_type": "code",
      "source": [
        "# Top 3 neighbourhoods in Staten Island which are having maximum prices\n",
        "print('Top 3 neighbourhoods in Staten Island which are having maximum prices')\n",
        "df_staten.groupby(['neighbourhood'])['price'].max().sort_values(ascending=False).reset_index().head(3)"
      ],
      "metadata": {
        "id": "ATf1CN0vEofd"
      },
      "execution_count": null,
      "outputs": []
    },
    {
      "cell_type": "code",
      "source": [
        "# top 3 neighbourhoods in bronx which are having maximum prices\n",
        "print('Top 3 neighbourhoods in Bronx which are having maximum prices')\n",
        "df_bronx.groupby(['neighbourhood'])['price'].max().sort_values(ascending=False).reset_index().head(3)"
      ],
      "metadata": {
        "id": "KRSmBQDMEpKD"
      },
      "execution_count": null,
      "outputs": []
    },
    {
      "cell_type": "code",
      "source": [
        "# top 3 neighbourhoods in Queens which are having maximum prices\n",
        "print('Top 3 neighbourhoods in Queens which are having maximum prices')\n",
        "df_queens.groupby(['neighbourhood'])['price'].max().sort_values(ascending=False).reset_index().head(3)"
      ],
      "metadata": {
        "id": "ufjtgm2TErzT"
      },
      "execution_count": null,
      "outputs": []
    },
    {
      "cell_type": "code",
      "source": [
        "# top 3 neighbourhoods in brooklyn which are having maximum prices\n",
        "print('Top 3 neighbourhood in Brooklyn which are having maximum prices')\n",
        "df_brooklyn.groupby(['neighbourhood'])['price'].max().sort_values(ascending=False).reset_index().head(3)"
      ],
      "metadata": {
        "id": "9nXXfIEgEuXv"
      },
      "execution_count": null,
      "outputs": []
    },
    {
      "cell_type": "markdown",
      "source": [
        "##### 1. Why did you pick the specific chart?"
      ],
      "metadata": {
        "id": "iky9q4vBYrdO"
      }
    },
    {
      "cell_type": "markdown",
      "source": [
        "Answer Here."
      ],
      "metadata": {
        "id": "aJRCwT6DYrdO"
      }
    },
    {
      "cell_type": "markdown",
      "source": [
        "##### 2. What is/are the insight(s) found from the chart?"
      ],
      "metadata": {
        "id": "F6T5p64dYrdO"
      }
    },
    {
      "cell_type": "markdown",
      "source": [
        "Answer Here"
      ],
      "metadata": {
        "id": "Xx8WAJvtYrdO"
      }
    },
    {
      "cell_type": "markdown",
      "source": [
        "##### 3. Will the gained insights help creating a positive business impact?\n",
        "Are there any insights that lead to negative growth? Justify with specific reason."
      ],
      "metadata": {
        "id": "y-Ehk30pYrdP"
      }
    },
    {
      "cell_type": "markdown",
      "source": [
        "Answer Here"
      ],
      "metadata": {
        "id": "jLNxxz7MYrdP"
      }
    },
    {
      "cell_type": "markdown",
      "source": [
        "### **Chart - 5: How neighbourhood is related to reviews ?**"
      ],
      "metadata": {
        "id": "bamQiAODYuh1"
      }
    },
    {
      "cell_type": "markdown",
      "source": [
        "#### **Top 5 Neighbourhoods having highest reviews per month**"
      ],
      "metadata": {
        "id": "yRjwycVRVcVj"
      }
    },
    {
      "cell_type": "code",
      "source": [
        "my_df1 = airbnb_df1.groupby(['neighbourhood'])['reviews_per_month'].sum().sort_values(ascending=False).reset_index().head()\n",
        "print(my_df1)\n",
        "\n",
        "# Plotting the pie chart\n",
        "plt.pie(my_df1['reviews_per_month'], labels=my_df1['neighbourhood'], autopct='%1.1f%%', startangle=90)\n",
        "plt.title('Top 5 neighbourhoods having highest reviews per month')\n",
        "plt.show()"
      ],
      "metadata": {
        "id": "TIJwrbroYuh3"
      },
      "execution_count": null,
      "outputs": []
    },
    {
      "cell_type": "markdown",
      "source": [
        "####**Top 5 Neighbourhoods having highest number of reviews**"
      ],
      "metadata": {
        "id": "IgW7BNT-U7yp"
      }
    },
    {
      "cell_type": "code",
      "source": [
        "my_df2 = airbnb_df1.groupby(['neighbourhood'])['number_of_reviews'].sum().sort_values(ascending=False).reset_index().head()\n",
        "print(my_df2)\n",
        "\n",
        "# Plotting the pie chart\n",
        "plt.pie(my_df2['number_of_reviews'], labels=my_df2['neighbourhood'], autopct='%1.1f%%', startangle=90)\n",
        "plt.title('Top 5 neighbourhoods having highest number of reviews')\n",
        "plt.show()"
      ],
      "metadata": {
        "id": "3V_VAvi-U7fr"
      },
      "execution_count": null,
      "outputs": []
    },
    {
      "cell_type": "markdown",
      "source": [
        "##### **1. Why did you pick the specific chart?**"
      ],
      "metadata": {
        "id": "QHF8YVU7Yuh3"
      }
    },
    {
      "cell_type": "markdown",
      "source": [
        "A pie plot is a suitable visualization for determining the top neighbourhoods with highest reviews in Airbnb dataset. It represents the distribution of reviews through proportional slices, where each slice corresponds to a neighbourhood and its size reflects the relative number of reviews. By comparing the sizes of the slices, it becomes evident which neighbourhood has the largest slice and thus the highest number of reviews. The clear and intuitive nature of the pie plot allows viewers to easily grasp the distribution and identify the most popular neighbourhood group for accommodations in NYC."
      ],
      "metadata": {
        "id": "dcxuIMRPYuh3"
      }
    },
    {
      "cell_type": "markdown",
      "source": [
        "##### **2. What is/are the insight(s) found from the chart?**"
      ],
      "metadata": {
        "id": "GwzvFGzlYuh3"
      }
    },
    {
      "cell_type": "markdown",
      "source": [
        "Bedford-Stuyvesant is the neighbourhood has highest number of total reviews and highest number of reviews per month."
      ],
      "metadata": {
        "id": "uyqkiB8YYuh3"
      }
    },
    {
      "cell_type": "markdown",
      "source": [
        "##### **3. Will the gained insights help creating a positive business impact?**\n",
        "\n",
        "---\n",
        "\n",
        "\n",
        "Are there any insights that lead to negative growth? Justify with specific reason."
      ],
      "metadata": {
        "id": "qYpmQ266Yuh3"
      }
    },
    {
      "cell_type": "markdown",
      "source": [
        "By considering the reviews from the customers across all the neighbourhoods, hosts and guests can align their strategies and choices with the preferences and trends observed in the market."
      ],
      "metadata": {
        "id": "_WtzZ_hCYuh4"
      }
    },
    {
      "cell_type": "markdown",
      "source": [
        "### **Chart - 6: What is the average price of Airbnb listings categorized by room type?**"
      ],
      "metadata": {
        "id": "OH-pJp9IphqM"
      }
    },
    {
      "cell_type": "code",
      "source": [
        "# applying groupby over 'neighbourhood_groups' and 'room_type'\n",
        "# then applying mean of price  and unstacking for clear visualization\n",
        "\n",
        "avg_price_df = airbnb_df1.groupby(['neighbourhood_group','room_type'])['price'].mean().unstack()\n",
        "print(avg_price_df)\n",
        "\n",
        "# ploting the barplot\n",
        "avg_price_df.plot.bar(figsize=(15,5),ylabel='Average Price calculated')\n",
        "plt.title(\"Average price for each room type according to each neighbourhood group\")"
      ],
      "metadata": {
        "id": "kuRf4wtuphqN"
      },
      "execution_count": null,
      "outputs": []
    },
    {
      "cell_type": "markdown",
      "source": [
        "##### **1. Why did you pick the specific chart?**"
      ],
      "metadata": {
        "id": "bbFf2-_FphqN"
      }
    },
    {
      "cell_type": "markdown",
      "source": [
        "A column chart is used in the Airbnb dataset to visualize the distribution of listing prices across different room types. This plot allows for a clear comparison of prices among the categories, with each room type represented by a separate column. The column chart provides valuable insights into the price dynamics and trends associated with each room type, assisting hosts and guests in making informed decisions based on their budget and preferences."
      ],
      "metadata": {
        "id": "loh7H2nzphqN"
      }
    },
    {
      "cell_type": "markdown",
      "source": [
        "##### **2. What is/are the insight(s) found from the chart?**"
      ],
      "metadata": {
        "id": "_ouA3fa0phqN"
      }
    },
    {
      "cell_type": "markdown",
      "source": [
        "*   The bar plot allows for a visual representation of the price ranges and variations among different room types. Guests can quickly identify the price brackets associated with each room type, helping them narrow down their search and find accommodations that fit their budget.\n",
        "*   Hosts can leverage the information from the bar plot to make informed pricing decisions. By understanding the distribution of prices for different room types, hosts can set competitive and attractive prices for their listings."
      ],
      "metadata": {
        "id": "VECbqPI7phqN"
      }
    },
    {
      "cell_type": "markdown",
      "source": [
        "##### **3. Will the gained insights help creating a positive business impact?**\n",
        "Are there any insights that lead to negative growth? Justify with specific reason."
      ],
      "metadata": {
        "id": "Seke61FWphqN"
      }
    },
    {
      "cell_type": "markdown",
      "source": [
        "The bar plot helps identify the popularity of different room types based on their frequency of occurrence and price distribution. Hosts can use this information to align their offerings with guest preferences. By offering competitive prices for popular room types, hosts can attract more bookings and enhance guest satisfaction."
      ],
      "metadata": {
        "id": "DW4_bGpfphqN"
      }
    },
    {
      "cell_type": "markdown",
      "source": [
        "### **Chart - 7: What is the distribution of room types across different neighbourhood groups?**"
      ],
      "metadata": {
        "id": "PIIx-8_IphqN"
      }
    },
    {
      "cell_type": "code",
      "source": [
        "# Set figure size\n",
        "# plt.figure(figsize=(7, 5))\n",
        "\n",
        "# Set title\n",
        "plt.title(\"Room Type on Neighbourhood Group\")\n",
        "\n",
        "# Defining the desired color palette\n",
        "colors = ['#41d3bd', '#f05d5e', '#272932']\n",
        "\n",
        "# Setting the theme and color palette for the plot\n",
        "sns.set_theme(style=\"whitegrid\", palette=colors)\n",
        "\n",
        "# Creating a countplot showing the distribution of room types in each neighbourhood group\n",
        "sns.countplot(x=airbnb_df1.neighbourhood_group, hue=airbnb_df1.room_type)\n",
        "plt.xlabel('Neighbourhood Group')\n",
        "plt.ylabel('Count')\n",
        "\n",
        "# Add a legend for the room types\n",
        "plt.legend(title='Room Type')\n",
        "\n",
        "# Adjust the plot layout\n",
        "plt.tight_layout()\n",
        "\n",
        "# Display the plot\n",
        "plt.show()"
      ],
      "metadata": {
        "id": "lqAIGUfyphqO"
      },
      "execution_count": null,
      "outputs": []
    },
    {
      "cell_type": "markdown",
      "source": [
        "##### **1. Why did you pick the specific chart?**"
      ],
      "metadata": {
        "id": "t27r6nlMphqO"
      }
    },
    {
      "cell_type": "markdown",
      "source": [
        "a countplot showing the distribution of room types in each neighbourhood group. This chart was selected because it effectively visualizes the relationship between the categorical variables \"neighbourhood_group\" and \"room_type\" by displaying the counts of each room type within each neighbourhood group. It allows for easy comparison and identification of the dominant room types in different neighbourhood groups."
      ],
      "metadata": {
        "id": "iv6ro40sphqO"
      }
    },
    {
      "cell_type": "markdown",
      "source": [
        "##### **2. What is/are the insight(s) found from the chart?**"
      ],
      "metadata": {
        "id": "r2jJGEOYphqO"
      }
    },
    {
      "cell_type": "markdown",
      "source": [
        "*   The chart provides insights into the distribution of room types across different neighbourhood groups.\n",
        "*   It helps identify the most common room type in each neighbourhood group.\n",
        "*   It reveals any variations in room type distribution between neighbourhood groups."
      ],
      "metadata": {
        "id": "Po6ZPi4hphqO"
      }
    },
    {
      "cell_type": "markdown",
      "source": [
        "##### **3. Will the gained insights help creating a positive business impact?**\n",
        "Are there any insights that lead to negative growth? with specific reason."
      ],
      "metadata": {
        "id": "b0JNsNcRphqO"
      }
    },
    {
      "cell_type": "markdown",
      "source": [
        "*   The gained insights can positively impact business by informing marketing strategies and target audience selection.\n",
        "*   They can help hosts optimize pricing and revenue by aligning with prevalent room types in each neighbourhood group.\n",
        "*   The insights assist in resource allocation and inventory management based on demand patterns.\n",
        "*   No insights from the chart directly lead to negative growth. However, a limited distribution of room types in a neighborhood group may require hosts to consider diversifying offerings or targeting alternative markets to mitigate potential negative impacts."
      ],
      "metadata": {
        "id": "xvSq8iUTphqO"
      }
    },
    {
      "cell_type": "markdown",
      "source": [
        "### **Chart - 8: What is the distribution of the room type and its distribution over the location ?**"
      ],
      "metadata": {
        "id": "BZR9WyysphqO"
      }
    },
    {
      "cell_type": "markdown",
      "source": [
        "####**Room type distrubution**"
      ],
      "metadata": {
        "id": "f2K5NOHjwS6f"
      }
    },
    {
      "cell_type": "code",
      "source": [
        "plt.title(\"Total number of listings across each room_type\")\n",
        "airbnb_df1['room_type'].value_counts().plot(kind='bar',color=['g','b','y'])"
      ],
      "metadata": {
        "id": "TdPTWpAVphqO"
      },
      "execution_count": null,
      "outputs": []
    },
    {
      "cell_type": "markdown",
      "source": [
        "Lets see how room_type is distributed over all location ,is there any place where there is a dominance of any particular room_type over the others despite of thier overall ratios ?"
      ],
      "metadata": {
        "id": "UNglMJ3NxIKZ"
      }
    },
    {
      "cell_type": "markdown",
      "source": [
        "**Scatter plot**"
      ],
      "metadata": {
        "id": "AJRvWbh6xeeZ"
      }
    },
    {
      "cell_type": "code",
      "source": [
        "plt.figure(figsize=(15,8))\n",
        "sns.scatterplot(x=airbnb_df1['longitude'],y=airbnb_df1['latitude'], hue=airbnb_df1['room_type']).set(title='Room type scatter plot on map')\n",
        "plt.show()"
      ],
      "metadata": {
        "id": "VVOl7hCHxKGY"
      },
      "execution_count": null,
      "outputs": []
    },
    {
      "cell_type": "markdown",
      "source": [
        "##### **1. Why did you pick the specific chart?**"
      ],
      "metadata": {
        "id": "jj7wYXLtphqO"
      }
    },
    {
      "cell_type": "markdown",
      "source": [
        "a scatter plot overlaid on a map image of New York City. This chart was selected to visualize the geographical distribution of room types across different neighborhoods."
      ],
      "metadata": {
        "id": "Ob8u6rCTphqO"
      }
    },
    {
      "cell_type": "markdown",
      "source": [
        "##### **2. What is/are the insight(s) found from the chart?**"
      ],
      "metadata": {
        "id": "eZrbJ2SmphqO"
      }
    },
    {
      "cell_type": "markdown",
      "source": [
        "So we can notice the following:\n",
        "\n",
        "1)Maximum number of rooms are Entire home/Apartment and Private room, there are only few shared rooms.\n",
        "\n",
        "2)So mostly hosts prefer to give Entire home/Appartment or Private Rooms rather than shared rooms."
      ],
      "metadata": {
        "id": "mZtgC_hjphqO"
      }
    },
    {
      "cell_type": "markdown",
      "source": [
        "##### **3. Will the gained insights help creating a positive business impact?**\n",
        "Are there any insights that lead to negative growth? Justify with specific reason."
      ],
      "metadata": {
        "id": "rFu4xreNphqO"
      }
    },
    {
      "cell_type": "markdown",
      "source": [
        "It helps identify clusters of various types of rooms in specific areas of the city which makes airbnb easy to identify what are the most trending room types."
      ],
      "metadata": {
        "id": "ey_0qi68phqO"
      }
    },
    {
      "cell_type": "markdown",
      "source": [
        "### **Chart - 9: Top neighbourhood groups having highest number of reviews?**"
      ],
      "metadata": {
        "id": "YJ55k-q6phqO"
      }
    },
    {
      "cell_type": "code",
      "source": [
        "my_df1 = airbnb_df1.groupby(['neighbourhood_group'])['number_of_reviews'].sum().sort_values(ascending=False).reset_index()\n",
        "print(my_df1)\n",
        "\n",
        "# column plot to show highest reviews per month\n",
        "fig, ax = plt.subplots(figsize=(8, 5))\n",
        "sns.barplot(x = 'neighbourhood_group', y = 'number_of_reviews', data = my_df1, ax=ax).set(title='Top neighbourhood groups having highest number of reviews')\n",
        "plt.show()"
      ],
      "metadata": {
        "id": "qGkVt49BB-G-"
      },
      "execution_count": null,
      "outputs": []
    },
    {
      "cell_type": "markdown",
      "source": [
        "##### **1. Why did you pick the specific chart?**"
      ],
      "metadata": {
        "id": "gCFgpxoyphqP"
      }
    },
    {
      "cell_type": "markdown",
      "source": [
        "A bar chart is used in the Airbnb dataset to visualize the highest number of reviews gained by the neighbourhood groups. This plot allows for a clear comparison of neighbourhood groups each represented by a separate column."
      ],
      "metadata": {
        "id": "TVxDimi2phqP"
      }
    },
    {
      "cell_type": "markdown",
      "source": [
        "##### **2. What is/are the insight(s) found from the chart?**"
      ],
      "metadata": {
        "id": "OVtJsKN_phqQ"
      }
    },
    {
      "cell_type": "markdown",
      "source": [
        "As we can see that Brooklyn has more number of reviews and the least number of reviews goes to the Staten Island. Manhattan has second highest number of reviews than the brooklyn."
      ],
      "metadata": {
        "id": "ngGi97qjphqQ"
      }
    },
    {
      "cell_type": "markdown",
      "source": [
        "##### **3. Will the gained insights help creating a positive business impact?**\n",
        "Are there any insights that lead to negative growth? Justify with specific reason."
      ],
      "metadata": {
        "id": "lssrdh5qphqQ"
      }
    },
    {
      "cell_type": "markdown",
      "source": [
        "*   Higher review counts indicate increased bookings and reflect guest satisfaction and preferences.\n",
        "*   Positive reviews contribute to improved reputation and credibility for hosts, attracting more guests and increasing bookings.\n",
        "*   However, it's important to manage negative reviews and address any issues to maintain a positive reputation."
      ],
      "metadata": {
        "id": "tBpY5ekJphqQ"
      }
    },
    {
      "cell_type": "markdown",
      "source": [
        "### **Chart - 10: Stay Requirement counts by Minimum Nights**"
      ],
      "metadata": {
        "id": "U2RJ9gkRphqQ"
      }
    },
    {
      "cell_type": "code",
      "source": [
        "# Group the DataFrame by the minimum_nights column and count the number of rows in each group\n",
        "min_nights_count = airbnb_df1.groupby('minimum_nights').size().reset_index(name = 'count')\n",
        "\n",
        "# Sort the resulting DataFrame in descending order by the count column\n",
        "min_nights_count = min_nights_count.sort_values('minimum_nights', ascending=True)\n",
        "\n",
        "# Select the top 10 rows\n",
        "min_nights_count = min_nights_count.head(15)\n",
        "\n",
        "# Reset the index\n",
        "min_nights_count = min_nights_count.reset_index(drop=True)\n",
        "\n",
        "# Display the resulting DataFrame\n",
        "min_nights_count"
      ],
      "metadata": {
        "id": "GM7a4YP4phqQ"
      },
      "execution_count": null,
      "outputs": []
    },
    {
      "cell_type": "code",
      "source": [
        "# Extract the minimum_nights and count columns from the DataFrame\n",
        "minimum_nights = min_nights_count['minimum_nights']\n",
        "count = min_nights_count['count']\n",
        "\n",
        "# Set the figure size\n",
        "plt.figure(figsize=(12, 4))\n",
        "\n",
        "# Create the bar plot\n",
        "plt.plot(minimum_nights, count, color='brown')\n",
        "plt.scatter(minimum_nights, count, color='red')\n",
        "\n",
        "# Plot the line\n",
        "\n",
        "# Add axis labels and a title\n",
        "plt.xlabel('Minimum Nights', fontsize='14')\n",
        "plt.ylabel('Count', fontsize='14')\n",
        "plt.title('Stay Requirement by Minimum Nights', fontsize='15')\n",
        "\n",
        "# Show the plot\n",
        "plt.show()"
      ],
      "metadata": {
        "id": "z10dRTV7F9F3"
      },
      "execution_count": null,
      "outputs": []
    },
    {
      "cell_type": "markdown",
      "source": [
        "##### **1. Why did you pick the specific chart?**"
      ],
      "metadata": {
        "id": "1M8mcRywphqQ"
      }
    },
    {
      "cell_type": "markdown",
      "source": [
        "By utilizing a line plot, we can gain insights into how the stay requirement count is related by minimum nights. This information can assist hosts and guests in making informed decisions based on the relationship between stay requirement count and minimum nights on airbnb."
      ],
      "metadata": {
        "id": "8agQvks0phqQ"
      }
    },
    {
      "cell_type": "markdown",
      "source": [
        "##### **2. What is/are the insight(s) found from the chart?**"
      ],
      "metadata": {
        "id": "tgIPom80phqQ"
      }
    },
    {
      "cell_type": "markdown",
      "source": [
        "*  The majority of listings on Airbnb have a minimum stay requirement of 1 or 2 nights, with 9487 and 9799 listings, respectively.\n",
        "*   The number of listings with a minimum stay requirement decreases as the length of stay\n",
        "increases, with 6341 listings requiring a minimum stay of 3 nights, and so on."
      ],
      "metadata": {
        "id": "Qp13pnNzphqQ"
      }
    },
    {
      "cell_type": "markdown",
      "source": [
        "##### **3. Will the gained insights help creating a positive business impact?**\n",
        "Are there any insights that lead to negative growth? Justify with specific reason."
      ],
      "metadata": {
        "id": "JMzcOPDDphqR"
      }
    },
    {
      "cell_type": "markdown",
      "source": [
        "*   Hosts may choose to set higher minimum stay requirements during peak seasons or events to maximize revenue. Analyzing stay requirement counts by minimum nights can help hosts optimize pricing and availability to achieve higher occupancy rates and revenue.\n",
        "*   Some guests may prefer shorter stays, while others may prefer longer stays. By aligning their minimum stay requirements with customer preferences, hosts can attract more bookings and improve guest satisfaction."
      ],
      "metadata": {
        "id": "R4Ka1PC2phqR"
      }
    },
    {
      "cell_type": "markdown",
      "source": [
        "#### Chart - 11"
      ],
      "metadata": {
        "id": "x-EpHcCOp1ci"
      }
    },
    {
      "cell_type": "code",
      "source": [
        "# Chart - 11 visualization code"
      ],
      "metadata": {
        "id": "mAQTIvtqp1cj"
      },
      "execution_count": null,
      "outputs": []
    },
    {
      "cell_type": "markdown",
      "source": [
        "##### 1. Why did you pick the specific chart?"
      ],
      "metadata": {
        "id": "X_VqEhTip1ck"
      }
    },
    {
      "cell_type": "markdown",
      "source": [
        "Answer Here."
      ],
      "metadata": {
        "id": "-vsMzt_np1ck"
      }
    },
    {
      "cell_type": "markdown",
      "source": [
        "##### 2. What is/are the insight(s) found from the chart?"
      ],
      "metadata": {
        "id": "8zGJKyg5p1ck"
      }
    },
    {
      "cell_type": "markdown",
      "source": [
        "Answer Here"
      ],
      "metadata": {
        "id": "ZYdMsrqVp1ck"
      }
    },
    {
      "cell_type": "markdown",
      "source": [
        "##### 3. Will the gained insights help creating a positive business impact?\n",
        "Are there any insights that lead to negative growth? Justify with specific reason."
      ],
      "metadata": {
        "id": "PVzmfK_Ep1ck"
      }
    },
    {
      "cell_type": "markdown",
      "source": [
        "Answer Here"
      ],
      "metadata": {
        "id": "druuKYZpp1ck"
      }
    },
    {
      "cell_type": "markdown",
      "source": [
        "#### Chart - 12"
      ],
      "metadata": {
        "id": "n3dbpmDWp1ck"
      }
    },
    {
      "cell_type": "code",
      "source": [
        "# Chart - 12 visualization code"
      ],
      "metadata": {
        "id": "bwevp1tKp1ck"
      },
      "execution_count": null,
      "outputs": []
    },
    {
      "cell_type": "markdown",
      "source": [
        "##### 1. Why did you pick the specific chart?"
      ],
      "metadata": {
        "id": "ylSl6qgtp1ck"
      }
    },
    {
      "cell_type": "markdown",
      "source": [
        "Answer Here."
      ],
      "metadata": {
        "id": "m2xqNkiQp1ck"
      }
    },
    {
      "cell_type": "markdown",
      "source": [
        "##### 2. What is/are the insight(s) found from the chart?"
      ],
      "metadata": {
        "id": "ZWILFDl5p1ck"
      }
    },
    {
      "cell_type": "markdown",
      "source": [
        "Answer Here"
      ],
      "metadata": {
        "id": "x-lUsV2mp1ck"
      }
    },
    {
      "cell_type": "markdown",
      "source": [
        "##### 3. Will the gained insights help creating a positive business impact?\n",
        "Are there any insights that lead to negative growth? Justify with specific reason."
      ],
      "metadata": {
        "id": "M7G43BXep1ck"
      }
    },
    {
      "cell_type": "markdown",
      "source": [
        "Answer Here"
      ],
      "metadata": {
        "id": "5wwDJXsLp1cl"
      }
    },
    {
      "cell_type": "markdown",
      "source": [
        "#### Chart - 13"
      ],
      "metadata": {
        "id": "Ag9LCva-p1cl"
      }
    },
    {
      "cell_type": "code",
      "source": [
        "# Chart - 13 visualization code"
      ],
      "metadata": {
        "id": "EUfxeq9-p1cl"
      },
      "execution_count": null,
      "outputs": []
    },
    {
      "cell_type": "markdown",
      "source": [
        "##### 1. Why did you pick the specific chart?"
      ],
      "metadata": {
        "id": "E6MkPsBcp1cl"
      }
    },
    {
      "cell_type": "markdown",
      "source": [
        "Answer Here."
      ],
      "metadata": {
        "id": "V22bRsFWp1cl"
      }
    },
    {
      "cell_type": "markdown",
      "source": [
        "##### 2. What is/are the insight(s) found from the chart?"
      ],
      "metadata": {
        "id": "2cELzS2fp1cl"
      }
    },
    {
      "cell_type": "markdown",
      "source": [
        "Answer Here"
      ],
      "metadata": {
        "id": "ozQPc2_Ip1cl"
      }
    },
    {
      "cell_type": "markdown",
      "source": [
        "##### 3. Will the gained insights help creating a positive business impact?\n",
        "Are there any insights that lead to negative growth? Justify with specific reason."
      ],
      "metadata": {
        "id": "3MPXvC8up1cl"
      }
    },
    {
      "cell_type": "markdown",
      "source": [
        "Answer Here"
      ],
      "metadata": {
        "id": "GL8l1tdLp1cl"
      }
    },
    {
      "cell_type": "markdown",
      "source": [
        "#### Chart - 14 - Correlation Heatmap"
      ],
      "metadata": {
        "id": "NC_X3p0fY2L0"
      }
    },
    {
      "cell_type": "code",
      "source": [
        "# Correlation Heatmap visualization code\n",
        "# mask = np.triu(np.ones_like(airbnb_df.corr(), dtype=bool))\n",
        "cmap = sns.diverging_palette(100, 7, s=75, l=40, n=5, center=\"light\", as_cmap=True)\n",
        "hm = sns.heatmap(data = airbnb_df1.corr(), annot = True, cmap = cmap, fmt='.2f')\n",
        "plt.show()"
      ],
      "metadata": {
        "id": "xyC9zolEZNRQ"
      },
      "execution_count": null,
      "outputs": []
    },
    {
      "cell_type": "markdown",
      "source": [
        "##### 1. Why did you pick the specific chart?"
      ],
      "metadata": {
        "id": "UV0SzAkaZNRQ"
      }
    },
    {
      "cell_type": "markdown",
      "source": [
        "The correlation heatmap was chosen because it provides a comprehensive overview of the relationships between variables in the dataset. It allows for easy identification of patterns and associations between different features, helping to uncover potential insights and understand the underlying structure of the data."
      ],
      "metadata": {
        "id": "DVPuT8LYZNRQ"
      }
    },
    {
      "cell_type": "markdown",
      "source": [
        "##### 2. What is/are the insight(s) found from the chart?"
      ],
      "metadata": {
        "id": "YPEH6qLeZNRQ"
      }
    },
    {
      "cell_type": "markdown",
      "source": [
        "*   The heatmap provides visual representation of correlations between variables in the Airbnb dataset.\n",
        "*   The insights gained from the heatmap can help understand the interdependencies between variables and their relationships.\n",
        "*   These insights can inform decision-making processes by identifying strong correlations and potential factors influencing certain outcomes."
      ],
      "metadata": {
        "id": "bfSqtnDqZNRR"
      }
    },
    {
      "cell_type": "markdown",
      "source": [
        "#### Chart - 15 - Pair Plot"
      ],
      "metadata": {
        "id": "q29F0dvdveiT"
      }
    },
    {
      "cell_type": "code",
      "source": [
        "# Pair Plot visualization code\n",
        "# Pair Plot visualization code\n",
        "# Create a pairplot using the seaborn library to visualize the relationships between different variables in the Airbnb NYC dataset\n",
        "sns.pairplot(airbnb_df1)\n",
        "# Show the plot\n",
        "plt.show()"
      ],
      "metadata": {
        "id": "o58-TEIhveiU"
      },
      "execution_count": null,
      "outputs": []
    },
    {
      "cell_type": "markdown",
      "source": [
        "##### 1. Why did you pick the specific chart?"
      ],
      "metadata": {
        "id": "EXh0U9oCveiU"
      }
    },
    {
      "cell_type": "markdown",
      "source": [
        "The pair plot was chosen to visualize the relationships between different variables in the Airbnb NYC dataset in a concise and comprehensive manner."
      ],
      "metadata": {
        "id": "eMmPjTByveiU"
      }
    },
    {
      "cell_type": "markdown",
      "source": [
        "##### 2. What is/are the insight(s) found from the chart?"
      ],
      "metadata": {
        "id": "22aHeOlLveiV"
      }
    },
    {
      "cell_type": "markdown",
      "source": [
        "*   The pair plot is a visual representation of the relationships between pairs of variables in the Airbnb 2019 NYC dataset.\n",
        "*   It displays scatter plots for numeric variables and histograms for categorical variables.\n",
        "*   By examining the scatter plots, we can identify patterns such as linear relationships, where two variables have a strong positive or negative correlation.\n",
        "*   Clusters of points in the scatter plots can indicate groups or subsets within the data that share similar characteristics.\n",
        "*   Outliers, represented as data points deviating significantly from the general trend, can also be detected in the pair plot.\n",
        "*   The pair plot provides insights into the correlations and distributions between variables, allowing us to identify potential associations and dependencies.\n",
        "*   These insights can be valuable for further analysis and decision-making processes, such as selecting relevant features for predictive modeling or understanding the factors influencing certain outcomes."
      ],
      "metadata": {
        "id": "uPQ8RGwHveiV"
      }
    },
    {
      "cell_type": "markdown",
      "source": [
        "## **5. Solution to Business Objective**"
      ],
      "metadata": {
        "id": "JcMwzZxoAimU"
      }
    },
    {
      "cell_type": "markdown",
      "source": [
        "#### What do you suggest the client to achieve Business Objective ?\n"
      ],
      "metadata": {
        "id": "8G2x9gOozGDZ"
      }
    },
    {
      "cell_type": "markdown",
      "source": [
        "Based on the analysis of the NYC Airbnb dataset, here are some suggestions to help the client achieve their business objectives:\n",
        "1.   Optimize Pricing Strategy: Analyze the relationship between pricing and factors such as location, property type, and amenities. Adjust prices accordingly to maximize occupancy rates and profitability. Consider implementing dynamic pricing strategies based on demand and seasonality.\n",
        "2.   Improve Listing Quality: Enhance the attractiveness and competitiveness of listings by improving the quality of descriptions, photos, and amenities. Highlight unique selling points and ensure accurate and detailed information to attract potential guests.\n",
        "3.  Enhance Customer Experience: Focus on providing excellent customer service and ensuring a positive experience for guests. Promptly address any issues or concerns, and encourage guests to leave reviews to build credibility and attract more bookings.  \n",
        "4.    Maintain Property Availability: Ensure a consistent availability of properties throughout the year, especially during peak tourist seasons and events. Plan maintenance and renovation schedules to minimize disruptions and maximize occupancy rates.\n",
        "5.    Monitor Competitor Activity: Stay updated on the offerings and prices of competitors in the local market. Adjust strategies accordingly to remain competitive and capture potential guests.\n",
        "6.    Consider Special Offers and Discounts: Implement promotional offers, discounts, or loyalty programs to attract guests and encourage repeat bookings. Monitor the impact of these offers on occupancy rates and profitability.\n",
        "\n",
        "\n",
        "\n"
      ],
      "metadata": {
        "id": "pASKb0qOza21"
      }
    },
    {
      "cell_type": "markdown",
      "source": [
        "# **Conclusion**"
      ],
      "metadata": {
        "id": "gCX9965dhzqZ"
      }
    },
    {
      "cell_type": "markdown",
      "source": [
        "The Airbnb project aimed to provide a comprehensive analysis of the short-term rental market in New York City using a dataset that includes various attributes of Airbnb listings. By examining the information available, we were able to gain valuable insights into the trends and patterns within the industry.\n",
        "\n",
        "Room types provided insights into the variety of accommodations available on Airbnb. The dataset included information on the type of room listed, such as entire homes, private rooms, or shared rooms. This analysis helped us understand the preferences of hosts and guests and provided valuable information on the diversity of options for travelers in NYC.\n",
        "\n",
        "Price was a significant aspect of the project, as it directly impacted both hosts and guests. The dataset included the price of each listing, allowing us to analyze the range and distribution of prices across different neighborhoods and room types. This information helped us identify areas with higher-priced accommodations and understand the factors that influenced pricing.\n",
        "\n",
        "Minimum nights indicated the minimum duration for which guests had to book a listing. By examining this attribute, we gained insights into the preferences of hosts and the demand for longer stays in the Airbnb market.\n",
        "\n",
        "The number of reviews and the date of the last review provided important metrics to evaluate the popularity and performance of listings. Analyzing the number of reviews allowed us to understand the level of engagement and satisfaction among guests. Additionally, the reviews per month metric provided insights into the frequency of bookings and the overall demand for a particular listing.\n",
        "\n",
        "The calculated host listings count attribute indicated the total count of listings for each host. This allowed us to identify hosts with multiple listings and assess the involvement of professional hosts in the Airbnb market.\n",
        "\n",
        "Finally, the availability 365 attribute captured the availability of listings throughout the year. This information helped us understand the seasonality of the Airbnb market and identify periods of high demand and low availability.\n",
        "\n",
        "In conclusion, By examining attributes such as listing details, host information, location, pricing, reviews, and availability, we gained valuable insights into the industry's dynamics, trends, and patterns. This information can be used to inform various stakeholders, including hosts, guests, policymakers, and researchers, to make informed decisions and understand the impact of short-term rentals on the city.\n"
      ],
      "metadata": {
        "id": "Fjb1IsQkh3yE"
      }
    },
    {
      "cell_type": "markdown",
      "source": [
        "### ***Hurrah! You have successfully completed your EDA Capstone Project !!!***"
      ],
      "metadata": {
        "id": "gIfDvo9L0UH2"
      }
    }
  ]
}